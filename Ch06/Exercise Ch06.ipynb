{
    "metadata": {
        "kernelspec": {
            "name": "SQL",
            "display_name": "SQL",
            "language": "sql"
        },
        "language_info": {
            "name": "sql",
            "version": ""
        }
    },
    "nbformat_minor": 2,
    "nbformat": 4,
    "cells": [
        {
            "cell_type": "markdown",
            "source": [
                "<span style=\"color: #008000;\">-- 1</span>\n",
                "\n",
                "<span style=\"color: #008000;\">-- Explain the difference between the UNION ALL and UNION operators</span>\n",
                "\n",
                "<span style=\"color: #008000;\">-- In what cases are they equivalent?</span>\n",
                "\n",
                "<span style=\"color: #008000;\">-- When they are equivalent, which one should you use?</span>\n",
                "\n",
                "<span style=\"color: #008000;\"><br></span>\n",
                "\n",
                "<span style=\"font-size: 12px; white-space: pre;\">The only difference between Union and Union All is that</span>\n",
                "\n",
                "<span style=\"font-size: 12px; white-space: pre;\">Union extracts the rows that are being specified in the query while</span>\n",
                "\n",
                "<span style=\"font-size: 12px; white-space: pre;\">Union All extracts all the rows including the duplicates (repeated values) from both the queries</span>"
            ],
            "metadata": {
                "azdata_cell_guid": "900ea9d8-ee6e-4db3-8993-2fe1f80d4413"
            },
            "attachments": {}
        },
        {
            "cell_type": "code",
            "source": [
                "-- 2\r\n",
                "-- Write a query that generates a virtual auxiliary table of 10 numbers\r\n",
                "-- in the range 1 through 10\r\n",
                "-- Tables involved: no table\r\n",
                "\r\n",
                "-- Auxiliary table of digits\r\n",
                "--SELECT ones.n + 10*tens.n + 100*hundreds.n + 1000*thousands.n AS number\r\n",
                "--FROM (VALUES(0),(1),(2),(3),(4),(5),(6),(7),(8),(9)) ones(n),\r\n",
                "--    (VALUES(0),(1),(2),(3),(4),(5),(6),(7),(8),(9)) tens(n),\r\n",
                "--     (VALUES(0),(1),(2),(3),(4),(5),(6),(7),(8),(9)) hundreds(n),\r\n",
                "--     (VALUES(0),(1),(2),(3),(4),(5),(6),(7),(8),(9)) thousands(n) \r\n",
                "--ORDER BY 1\r\n",
                "\r\n",
                "--METHOD 2\r\n",
                "--DROP TABLE IF EXISTS dbo.Digits;\r\n",
                "\r\n",
                "--CREATE TABLE dbo.Digits(digit INT NOT NULL PRIMARY KEY);\r\n",
                "\r\n",
                "--INSERT INTO dbo.Digits(digit)\r\n",
                " -- VALUES (0),(1),(2),(3),(4),(5),(6),(7),(8),(9);\r\n",
                "\r\n",
                "--SELECT digit FROM dbo.Digits;\r\n",
                "\r\n",
                "\r\n",
                "SELECT ones.n AS n\r\n",
                "From (VALUES(0),(1),(2),(3),(4),(5),(6),(7),(8),(9))ones(n)\r\n",
                ""
            ],
            "metadata": {
                "azdata_cell_guid": "aee00a7d-56b3-467c-ae8b-83388bf6eaff",
                "language": "sql"
            },
            "outputs": [
                {
                    "output_type": "display_data",
                    "data": {
                        "text/html": "(10 rows affected)"
                    },
                    "metadata": {}
                },
                {
                    "output_type": "display_data",
                    "data": {
                        "text/html": "Total execution time: 00:00:00.030"
                    },
                    "metadata": {}
                },
                {
                    "output_type": "execute_result",
                    "execution_count": 7,
                    "data": {
                        "application/vnd.dataresource+json": {
                            "schema": {
                                "fields": [
                                    {
                                        "name": "n"
                                    }
                                ]
                            },
                            "data": [
                                {
                                    "0": "0"
                                },
                                {
                                    "0": "1"
                                },
                                {
                                    "0": "2"
                                },
                                {
                                    "0": "3"
                                },
                                {
                                    "0": "4"
                                },
                                {
                                    "0": "5"
                                },
                                {
                                    "0": "6"
                                },
                                {
                                    "0": "7"
                                },
                                {
                                    "0": "8"
                                },
                                {
                                    "0": "9"
                                }
                            ]
                        },
                        "text/html": "<table><tr><th>n</th></tr><tr><td>0</td></tr><tr><td>1</td></tr><tr><td>2</td></tr><tr><td>3</td></tr><tr><td>4</td></tr><tr><td>5</td></tr><tr><td>6</td></tr><tr><td>7</td></tr><tr><td>8</td></tr><tr><td>9</td></tr></table>"
                    },
                    "metadata": {}
                }
            ],
            "execution_count": 7
        },
        {
            "cell_type": "code",
            "source": [
                "-- 3\r\n",
                "-- Write a query that returns customer and employee pairs \r\n",
                "-- that had order activity in January 2016 but not in February 2016\r\n",
                "-- Tables involved: TSQLV4 database, Orders table\r\n",
                "\r\n",
                "USE TSQLV4;\r\n",
                "GO\r\n",
                "SELECT custid,empid \r\n",
                "FROM SALES.Orders\r\n",
                "WHERE orderdate >= '2016-01-01' AND orderdate <'2016-02-01'\r\n",
                "\r\n",
                "EXCEPT -- in table 1 but not in table 2\r\n",
                "\r\n",
                "SELECT custid,empid \r\n",
                "FROM SALES.Orders\r\n",
                "WHERE orderdate >= '2016-02-01' AND orderdate <'2016-03-01'\r\n",
                "\r\n",
                "USE Northwinds2022TSQLV7;\r\n",
                "GO \r\n",
                "SELECT CustomerId,EmployeeId \r\n",
                "FROM SALES.[Order]\r\n",
                "WHERE orderdate >= '2016-01-01' AND orderdate <'2016-02-01'\r\n",
                "\r\n",
                "EXCEPT -- in table 1 but not in table 2\r\n",
                "\r\n",
                "SELECT CustomerId,EmployeeId \r\n",
                "FROM SALES.[Order]\r\n",
                "WHERE orderdate >= '2016-02-01' AND orderdate <'2016-03-01'\r\n",
                "\r\n",
                ""
            ],
            "metadata": {
                "language": "sql",
                "azdata_cell_guid": "00718304-42d3-4f3b-a954-348504226681",
                "tags": []
            },
            "outputs": [
                {
                    "output_type": "display_data",
                    "data": {
                        "text/html": "Commands completed successfully."
                    },
                    "metadata": {}
                },
                {
                    "output_type": "display_data",
                    "data": {
                        "text/html": "(50 rows affected)"
                    },
                    "metadata": {}
                },
                {
                    "output_type": "display_data",
                    "data": {
                        "text/html": "(50 rows affected)"
                    },
                    "metadata": {}
                },
                {
                    "output_type": "display_data",
                    "data": {
                        "text/html": "Total execution time: 00:00:00.087"
                    },
                    "metadata": {}
                },
                {
                    "output_type": "execute_result",
                    "metadata": {},
                    "execution_count": 11,
                    "data": {
                        "application/vnd.dataresource+json": {
                            "schema": {
                                "fields": [
                                    {
                                        "name": "custid"
                                    },
                                    {
                                        "name": "empid"
                                    }
                                ]
                            },
                            "data": [
                                {
                                    "0": "1",
                                    "1": "1"
                                },
                                {
                                    "0": "3",
                                    "1": "3"
                                },
                                {
                                    "0": "5",
                                    "1": "8"
                                },
                                {
                                    "0": "5",
                                    "1": "9"
                                },
                                {
                                    "0": "6",
                                    "1": "9"
                                },
                                {
                                    "0": "7",
                                    "1": "6"
                                },
                                {
                                    "0": "9",
                                    "1": "1"
                                },
                                {
                                    "0": "12",
                                    "1": "2"
                                },
                                {
                                    "0": "16",
                                    "1": "7"
                                },
                                {
                                    "0": "17",
                                    "1": "1"
                                },
                                {
                                    "0": "20",
                                    "1": "7"
                                },
                                {
                                    "0": "24",
                                    "1": "8"
                                },
                                {
                                    "0": "25",
                                    "1": "1"
                                },
                                {
                                    "0": "26",
                                    "1": "3"
                                },
                                {
                                    "0": "32",
                                    "1": "4"
                                },
                                {
                                    "0": "38",
                                    "1": "9"
                                },
                                {
                                    "0": "39",
                                    "1": "3"
                                },
                                {
                                    "0": "40",
                                    "1": "2"
                                },
                                {
                                    "0": "41",
                                    "1": "2"
                                },
                                {
                                    "0": "42",
                                    "1": "2"
                                },
                                {
                                    "0": "44",
                                    "1": "8"
                                },
                                {
                                    "0": "47",
                                    "1": "3"
                                },
                                {
                                    "0": "47",
                                    "1": "4"
                                },
                                {
                                    "0": "47",
                                    "1": "8"
                                },
                                {
                                    "0": "49",
                                    "1": "7"
                                },
                                {
                                    "0": "55",
                                    "1": "2"
                                },
                                {
                                    "0": "55",
                                    "1": "3"
                                },
                                {
                                    "0": "56",
                                    "1": "6"
                                },
                                {
                                    "0": "59",
                                    "1": "8"
                                },
                                {
                                    "0": "63",
                                    "1": "8"
                                },
                                {
                                    "0": "64",
                                    "1": "9"
                                },
                                {
                                    "0": "65",
                                    "1": "3"
                                },
                                {
                                    "0": "65",
                                    "1": "8"
                                },
                                {
                                    "0": "66",
                                    "1": "5"
                                },
                                {
                                    "0": "67",
                                    "1": "5"
                                },
                                {
                                    "0": "70",
                                    "1": "3"
                                },
                                {
                                    "0": "71",
                                    "1": "2"
                                },
                                {
                                    "0": "75",
                                    "1": "1"
                                },
                                {
                                    "0": "76",
                                    "1": "2"
                                },
                                {
                                    "0": "76",
                                    "1": "5"
                                },
                                {
                                    "0": "80",
                                    "1": "1"
                                },
                                {
                                    "0": "81",
                                    "1": "1"
                                },
                                {
                                    "0": "81",
                                    "1": "3"
                                },
                                {
                                    "0": "81",
                                    "1": "4"
                                },
                                {
                                    "0": "82",
                                    "1": "6"
                                },
                                {
                                    "0": "84",
                                    "1": "1"
                                },
                                {
                                    "0": "84",
                                    "1": "3"
                                },
                                {
                                    "0": "84",
                                    "1": "4"
                                },
                                {
                                    "0": "88",
                                    "1": "7"
                                },
                                {
                                    "0": "89",
                                    "1": "4"
                                }
                            ]
                        },
                        "text/html": [
                            "<table>",
                            "<tr><th>custid</th><th>empid</th></tr>",
                            "<tr><td>1</td><td>1</td></tr>",
                            "<tr><td>3</td><td>3</td></tr>",
                            "<tr><td>5</td><td>8</td></tr>",
                            "<tr><td>5</td><td>9</td></tr>",
                            "<tr><td>6</td><td>9</td></tr>",
                            "<tr><td>7</td><td>6</td></tr>",
                            "<tr><td>9</td><td>1</td></tr>",
                            "<tr><td>12</td><td>2</td></tr>",
                            "<tr><td>16</td><td>7</td></tr>",
                            "<tr><td>17</td><td>1</td></tr>",
                            "<tr><td>20</td><td>7</td></tr>",
                            "<tr><td>24</td><td>8</td></tr>",
                            "<tr><td>25</td><td>1</td></tr>",
                            "<tr><td>26</td><td>3</td></tr>",
                            "<tr><td>32</td><td>4</td></tr>",
                            "<tr><td>38</td><td>9</td></tr>",
                            "<tr><td>39</td><td>3</td></tr>",
                            "<tr><td>40</td><td>2</td></tr>",
                            "<tr><td>41</td><td>2</td></tr>",
                            "<tr><td>42</td><td>2</td></tr>",
                            "<tr><td>44</td><td>8</td></tr>",
                            "<tr><td>47</td><td>3</td></tr>",
                            "<tr><td>47</td><td>4</td></tr>",
                            "<tr><td>47</td><td>8</td></tr>",
                            "<tr><td>49</td><td>7</td></tr>",
                            "<tr><td>55</td><td>2</td></tr>",
                            "<tr><td>55</td><td>3</td></tr>",
                            "<tr><td>56</td><td>6</td></tr>",
                            "<tr><td>59</td><td>8</td></tr>",
                            "<tr><td>63</td><td>8</td></tr>",
                            "<tr><td>64</td><td>9</td></tr>",
                            "<tr><td>65</td><td>3</td></tr>",
                            "<tr><td>65</td><td>8</td></tr>",
                            "<tr><td>66</td><td>5</td></tr>",
                            "<tr><td>67</td><td>5</td></tr>",
                            "<tr><td>70</td><td>3</td></tr>",
                            "<tr><td>71</td><td>2</td></tr>",
                            "<tr><td>75</td><td>1</td></tr>",
                            "<tr><td>76</td><td>2</td></tr>",
                            "<tr><td>76</td><td>5</td></tr>",
                            "<tr><td>80</td><td>1</td></tr>",
                            "<tr><td>81</td><td>1</td></tr>",
                            "<tr><td>81</td><td>3</td></tr>",
                            "<tr><td>81</td><td>4</td></tr>",
                            "<tr><td>82</td><td>6</td></tr>",
                            "<tr><td>84</td><td>1</td></tr>",
                            "<tr><td>84</td><td>3</td></tr>",
                            "<tr><td>84</td><td>4</td></tr>",
                            "<tr><td>88</td><td>7</td></tr>",
                            "<tr><td>89</td><td>4</td></tr>",
                            "</table>"
                        ]
                    }
                },
                {
                    "output_type": "execute_result",
                    "metadata": {},
                    "execution_count": 11,
                    "data": {
                        "application/vnd.dataresource+json": {
                            "schema": {
                                "fields": [
                                    {
                                        "name": "CustomerId"
                                    },
                                    {
                                        "name": "EmployeeId"
                                    }
                                ]
                            },
                            "data": [
                                {
                                    "0": "1",
                                    "1": "1"
                                },
                                {
                                    "0": "3",
                                    "1": "3"
                                },
                                {
                                    "0": "5",
                                    "1": "8"
                                },
                                {
                                    "0": "5",
                                    "1": "9"
                                },
                                {
                                    "0": "6",
                                    "1": "9"
                                },
                                {
                                    "0": "7",
                                    "1": "6"
                                },
                                {
                                    "0": "9",
                                    "1": "1"
                                },
                                {
                                    "0": "12",
                                    "1": "2"
                                },
                                {
                                    "0": "16",
                                    "1": "7"
                                },
                                {
                                    "0": "17",
                                    "1": "1"
                                },
                                {
                                    "0": "20",
                                    "1": "7"
                                },
                                {
                                    "0": "24",
                                    "1": "8"
                                },
                                {
                                    "0": "25",
                                    "1": "1"
                                },
                                {
                                    "0": "26",
                                    "1": "3"
                                },
                                {
                                    "0": "32",
                                    "1": "4"
                                },
                                {
                                    "0": "38",
                                    "1": "9"
                                },
                                {
                                    "0": "39",
                                    "1": "3"
                                },
                                {
                                    "0": "40",
                                    "1": "2"
                                },
                                {
                                    "0": "41",
                                    "1": "2"
                                },
                                {
                                    "0": "42",
                                    "1": "2"
                                },
                                {
                                    "0": "44",
                                    "1": "8"
                                },
                                {
                                    "0": "47",
                                    "1": "3"
                                },
                                {
                                    "0": "47",
                                    "1": "4"
                                },
                                {
                                    "0": "47",
                                    "1": "8"
                                },
                                {
                                    "0": "49",
                                    "1": "7"
                                },
                                {
                                    "0": "55",
                                    "1": "2"
                                },
                                {
                                    "0": "55",
                                    "1": "3"
                                },
                                {
                                    "0": "56",
                                    "1": "6"
                                },
                                {
                                    "0": "59",
                                    "1": "8"
                                },
                                {
                                    "0": "63",
                                    "1": "8"
                                },
                                {
                                    "0": "64",
                                    "1": "9"
                                },
                                {
                                    "0": "65",
                                    "1": "3"
                                },
                                {
                                    "0": "65",
                                    "1": "8"
                                },
                                {
                                    "0": "66",
                                    "1": "5"
                                },
                                {
                                    "0": "67",
                                    "1": "5"
                                },
                                {
                                    "0": "70",
                                    "1": "3"
                                },
                                {
                                    "0": "71",
                                    "1": "2"
                                },
                                {
                                    "0": "75",
                                    "1": "1"
                                },
                                {
                                    "0": "76",
                                    "1": "2"
                                },
                                {
                                    "0": "76",
                                    "1": "5"
                                },
                                {
                                    "0": "80",
                                    "1": "1"
                                },
                                {
                                    "0": "81",
                                    "1": "1"
                                },
                                {
                                    "0": "81",
                                    "1": "3"
                                },
                                {
                                    "0": "81",
                                    "1": "4"
                                },
                                {
                                    "0": "82",
                                    "1": "6"
                                },
                                {
                                    "0": "84",
                                    "1": "1"
                                },
                                {
                                    "0": "84",
                                    "1": "3"
                                },
                                {
                                    "0": "84",
                                    "1": "4"
                                },
                                {
                                    "0": "88",
                                    "1": "7"
                                },
                                {
                                    "0": "89",
                                    "1": "4"
                                }
                            ]
                        },
                        "text/html": [
                            "<table>",
                            "<tr><th>CustomerId</th><th>EmployeeId</th></tr>",
                            "<tr><td>1</td><td>1</td></tr>",
                            "<tr><td>3</td><td>3</td></tr>",
                            "<tr><td>5</td><td>8</td></tr>",
                            "<tr><td>5</td><td>9</td></tr>",
                            "<tr><td>6</td><td>9</td></tr>",
                            "<tr><td>7</td><td>6</td></tr>",
                            "<tr><td>9</td><td>1</td></tr>",
                            "<tr><td>12</td><td>2</td></tr>",
                            "<tr><td>16</td><td>7</td></tr>",
                            "<tr><td>17</td><td>1</td></tr>",
                            "<tr><td>20</td><td>7</td></tr>",
                            "<tr><td>24</td><td>8</td></tr>",
                            "<tr><td>25</td><td>1</td></tr>",
                            "<tr><td>26</td><td>3</td></tr>",
                            "<tr><td>32</td><td>4</td></tr>",
                            "<tr><td>38</td><td>9</td></tr>",
                            "<tr><td>39</td><td>3</td></tr>",
                            "<tr><td>40</td><td>2</td></tr>",
                            "<tr><td>41</td><td>2</td></tr>",
                            "<tr><td>42</td><td>2</td></tr>",
                            "<tr><td>44</td><td>8</td></tr>",
                            "<tr><td>47</td><td>3</td></tr>",
                            "<tr><td>47</td><td>4</td></tr>",
                            "<tr><td>47</td><td>8</td></tr>",
                            "<tr><td>49</td><td>7</td></tr>",
                            "<tr><td>55</td><td>2</td></tr>",
                            "<tr><td>55</td><td>3</td></tr>",
                            "<tr><td>56</td><td>6</td></tr>",
                            "<tr><td>59</td><td>8</td></tr>",
                            "<tr><td>63</td><td>8</td></tr>",
                            "<tr><td>64</td><td>9</td></tr>",
                            "<tr><td>65</td><td>3</td></tr>",
                            "<tr><td>65</td><td>8</td></tr>",
                            "<tr><td>66</td><td>5</td></tr>",
                            "<tr><td>67</td><td>5</td></tr>",
                            "<tr><td>70</td><td>3</td></tr>",
                            "<tr><td>71</td><td>2</td></tr>",
                            "<tr><td>75</td><td>1</td></tr>",
                            "<tr><td>76</td><td>2</td></tr>",
                            "<tr><td>76</td><td>5</td></tr>",
                            "<tr><td>80</td><td>1</td></tr>",
                            "<tr><td>81</td><td>1</td></tr>",
                            "<tr><td>81</td><td>3</td></tr>",
                            "<tr><td>81</td><td>4</td></tr>",
                            "<tr><td>82</td><td>6</td></tr>",
                            "<tr><td>84</td><td>1</td></tr>",
                            "<tr><td>84</td><td>3</td></tr>",
                            "<tr><td>84</td><td>4</td></tr>",
                            "<tr><td>88</td><td>7</td></tr>",
                            "<tr><td>89</td><td>4</td></tr>",
                            "</table>"
                        ]
                    }
                }
            ],
            "execution_count": 11
        },
        {
            "cell_type": "code",
            "source": [
                "-- 4\r\n",
                "-- Write a query that returns customer and employee pairs \r\n",
                "-- that had order activity in both January 2016 and February 2016\r\n",
                "-- Tables involved: TSQLV4 database, Orders table\r\n",
                "USE TSQLV4;\r\n",
                "GO\r\n",
                "SELECT custid,empid \r\n",
                "FROM SALES.Orders\r\n",
                "WHERE orderdate >= '2016-01-01' AND orderdate <'2016-02-01'\r\n",
                "\r\n",
                "INTERSECT -- return both in table 1  and table 2\r\n",
                "\r\n",
                "SELECT custid,empid \r\n",
                "FROM SALES.Orders\r\n",
                "WHERE orderdate >= '2016-02-01' AND orderdate <'2016-03-01'\r\n",
                "\r\n",
                "USE Northwinds2022TSQLV7;\r\n",
                "GO \r\n",
                "SELECT CustomerId,EmployeeId \r\n",
                "FROM SALES.[Order]\r\n",
                "WHERE orderdate >= '2016-01-01' AND orderdate <'2016-02-01'\r\n",
                "\r\n",
                "INTERSECT -- return both in table 1  and table 2\r\n",
                "\r\n",
                "SELECT CustomerId,EmployeeId \r\n",
                "FROM SALES.[Order]\r\n",
                "WHERE orderdate >= '2016-02-01' AND orderdate <'2016-03-01'"
            ],
            "metadata": {
                "language": "sql",
                "azdata_cell_guid": "0df0b127-cd2a-4659-874c-a77006445f1b"
            },
            "outputs": [
                {
                    "output_type": "display_data",
                    "data": {
                        "text/html": "Commands completed successfully."
                    },
                    "metadata": {}
                },
                {
                    "output_type": "display_data",
                    "data": {
                        "text/html": "(5 rows affected)"
                    },
                    "metadata": {}
                },
                {
                    "output_type": "display_data",
                    "data": {
                        "text/html": "(5 rows affected)"
                    },
                    "metadata": {}
                },
                {
                    "output_type": "display_data",
                    "data": {
                        "text/html": "Total execution time: 00:00:00.095"
                    },
                    "metadata": {}
                },
                {
                    "output_type": "execute_result",
                    "metadata": {},
                    "execution_count": 12,
                    "data": {
                        "application/vnd.dataresource+json": {
                            "schema": {
                                "fields": [
                                    {
                                        "name": "custid"
                                    },
                                    {
                                        "name": "empid"
                                    }
                                ]
                            },
                            "data": [
                                {
                                    "0": "20",
                                    "1": "3"
                                },
                                {
                                    "0": "39",
                                    "1": "9"
                                },
                                {
                                    "0": "46",
                                    "1": "5"
                                },
                                {
                                    "0": "67",
                                    "1": "1"
                                },
                                {
                                    "0": "71",
                                    "1": "4"
                                }
                            ]
                        },
                        "text/html": [
                            "<table>",
                            "<tr><th>custid</th><th>empid</th></tr>",
                            "<tr><td>20</td><td>3</td></tr>",
                            "<tr><td>39</td><td>9</td></tr>",
                            "<tr><td>46</td><td>5</td></tr>",
                            "<tr><td>67</td><td>1</td></tr>",
                            "<tr><td>71</td><td>4</td></tr>",
                            "</table>"
                        ]
                    }
                },
                {
                    "output_type": "execute_result",
                    "metadata": {},
                    "execution_count": 12,
                    "data": {
                        "application/vnd.dataresource+json": {
                            "schema": {
                                "fields": [
                                    {
                                        "name": "CustomerId"
                                    },
                                    {
                                        "name": "EmployeeId"
                                    }
                                ]
                            },
                            "data": [
                                {
                                    "0": "20",
                                    "1": "3"
                                },
                                {
                                    "0": "39",
                                    "1": "9"
                                },
                                {
                                    "0": "46",
                                    "1": "5"
                                },
                                {
                                    "0": "67",
                                    "1": "1"
                                },
                                {
                                    "0": "71",
                                    "1": "4"
                                }
                            ]
                        },
                        "text/html": [
                            "<table>",
                            "<tr><th>CustomerId</th><th>EmployeeId</th></tr>",
                            "<tr><td>20</td><td>3</td></tr>",
                            "<tr><td>39</td><td>9</td></tr>",
                            "<tr><td>46</td><td>5</td></tr>",
                            "<tr><td>67</td><td>1</td></tr>",
                            "<tr><td>71</td><td>4</td></tr>",
                            "</table>"
                        ]
                    }
                }
            ],
            "execution_count": 12
        },
        {
            "cell_type": "code",
            "source": [
                "-- 5\r\n",
                "-- Write a query that returns customer and employee pairs \r\n",
                "-- that had order activity in both January 2016 and February 2016\r\n",
                "-- but not in 2015\r\n",
                "-- Tables involved: TSQLV4 database, Orders table\r\n",
                "\r\n",
                "USE TSQLV4;\r\n",
                "GO\r\n",
                "SELECT custid,empid \r\n",
                "FROM SALES.Orders\r\n",
                "WHERE orderdate >= '2016-01-01' AND orderdate <'2016-02-01'\r\n",
                "\r\n",
                "INTERSECT -- return both in table 1  and table 2\r\n",
                "\r\n",
                "SELECT custid,empid \r\n",
                "FROM SALES.Orders\r\n",
                "WHERE orderdate >= '2016-02-01' AND orderdate <'2016-03-01'\r\n",
                "\r\n",
                "EXCEPT\r\n",
                "SELECT custid,empid \r\n",
                "FROM SALES.Orders\r\n",
                "WHERE orderdate >= '2015-01-01' AND orderdate <'2016-01-01'\r\n",
                "\r\n",
                "\r\n",
                "USE Northwinds2022TSQLV7;\r\n",
                "GO \r\n",
                "SELECT CustomerId,EmployeeId \r\n",
                "FROM SALES.[Order]\r\n",
                "WHERE orderdate >= '2016-01-01' AND orderdate <'2016-02-01'\r\n",
                "\r\n",
                "INTERSECT -- return both in table 1  and table 2\r\n",
                "\r\n",
                "SELECT CustomerId,EmployeeId \r\n",
                "FROM SALES.[Order]\r\n",
                "WHERE orderdate >= '2016-02-01' AND orderdate <'2016-03-01'\r\n",
                "EXCEPT\r\n",
                "SELECT CustomerId,EmployeeId \r\n",
                "FROM SALES.[Order]\r\n",
                "WHERE orderdate >= '2015-01-01' AND orderdate <'2016-01-01'\r\n",
                ""
            ],
            "metadata": {
                "language": "sql",
                "azdata_cell_guid": "f062bca0-4a22-4cd2-ae03-01b1d391e107"
            },
            "outputs": [
                {
                    "output_type": "display_data",
                    "data": {
                        "text/html": "Commands completed successfully."
                    },
                    "metadata": {}
                },
                {
                    "output_type": "display_data",
                    "data": {
                        "text/html": "(2 rows affected)"
                    },
                    "metadata": {}
                },
                {
                    "output_type": "display_data",
                    "data": {
                        "text/html": "(2 rows affected)"
                    },
                    "metadata": {}
                },
                {
                    "output_type": "display_data",
                    "data": {
                        "text/html": "Total execution time: 00:00:00.100"
                    },
                    "metadata": {}
                },
                {
                    "output_type": "execute_result",
                    "metadata": {},
                    "execution_count": 13,
                    "data": {
                        "application/vnd.dataresource+json": {
                            "schema": {
                                "fields": [
                                    {
                                        "name": "custid"
                                    },
                                    {
                                        "name": "empid"
                                    }
                                ]
                            },
                            "data": [
                                {
                                    "0": "46",
                                    "1": "5"
                                },
                                {
                                    "0": "67",
                                    "1": "1"
                                }
                            ]
                        },
                        "text/html": [
                            "<table>",
                            "<tr><th>custid</th><th>empid</th></tr>",
                            "<tr><td>46</td><td>5</td></tr>",
                            "<tr><td>67</td><td>1</td></tr>",
                            "</table>"
                        ]
                    }
                },
                {
                    "output_type": "execute_result",
                    "metadata": {},
                    "execution_count": 13,
                    "data": {
                        "application/vnd.dataresource+json": {
                            "schema": {
                                "fields": [
                                    {
                                        "name": "CustomerId"
                                    },
                                    {
                                        "name": "EmployeeId"
                                    }
                                ]
                            },
                            "data": [
                                {
                                    "0": "67",
                                    "1": "1"
                                },
                                {
                                    "0": "46",
                                    "1": "5"
                                }
                            ]
                        },
                        "text/html": [
                            "<table>",
                            "<tr><th>CustomerId</th><th>EmployeeId</th></tr>",
                            "<tr><td>67</td><td>1</td></tr>",
                            "<tr><td>46</td><td>5</td></tr>",
                            "</table>"
                        ]
                    }
                }
            ],
            "execution_count": 13
        },
        {
            "cell_type": "code",
            "source": [
                "USE TSQLV4;\r\n",
                "\r\n",
                "SELECT country, region, city \r\n",
                "FROM (\r\n",
                "SELECT 1 AS COL, country, region, city\r\n",
                "      FROM HR.Employees\r\n",
                "UNION ALL\r\n",
                "SELECT 2 COL, country, region, city\r\n",
                "      FROM Production.Suppliers\r\n",
                ") AS RESULT\r\n",
                "ORDER BY\r\n",
                "COL, country, region, city\r\n",
                "\r\n",
                "USE Northwinds2022TSQLV7;\r\n",
                "GO \r\n",
                "SELECT RESULT.Employeecountry, RESULT.Employeeregion, RESULT.Employeecity \r\n",
                "FROM (\r\n",
                "SELECT 1 AS COL, Employeecountry, Employeeregion, Employeecity\r\n",
                "      FROM HumanResources.Employee\r\n",
                "UNION ALL\r\n",
                "SELECT 2 COL, Suppliercountry, Supplierregion, Suppliercity\r\n",
                "      FROM Production.Supplier\r\n",
                ") AS RESULT\r\n",
                "ORDER BY\r\n",
                "COL, RESULT.Employeecountry, RESULT.Employeeregion, RESULT.Employeecity\r\n",
                "\r\n",
                ""
            ],
            "metadata": {
                "language": "sql",
                "azdata_cell_guid": "06b339b8-bfd7-4f45-ba97-5db3c44ae5a5"
            },
            "outputs": [
{
    "output_type": "display_data",
    "data": {
        "text/html": "(38 rows affected)"
    },
    "metadata": {}
}, {
    "output_type": "display_data",
    "data": {
        "text/html": "(38 rows affected)"
    },
    "metadata": {}
}, {
    "output_type": "display_data",
    "data": {
        "text/html": "Total execution time: 00:00:00.045"
    },
    "metadata": {}
}, {
    "output_type": "execute_result",
    "metadata": {},
    "execution_count": 14,
    "data": {
        "application/vnd.dataresource+json": {
            "schema": {
                "fields": [
                    {
                        "name": "country"
                    },
                    {
                        "name": "region"
                    },
                    {
                        "name": "city"
                    }
                ]
            },
            "data": [
                {
                    "0": "UK",
                    "1": "NULL",
                    "2": "London"
                },
                {
                    "0": "UK",
                    "1": "NULL",
                    "2": "London"
                },
                {
                    "0": "UK",
                    "1": "NULL",
                    "2": "London"
                },
                {
                    "0": "UK",
                    "1": "NULL",
                    "2": "London"
                },
                {
                    "0": "USA",
                    "1": "WA",
                    "2": "Kirkland"
                },
                {
                    "0": "USA",
                    "1": "WA",
                    "2": "Redmond"
                },
                {
                    "0": "USA",
                    "1": "WA",
                    "2": "Seattle"
                },
                {
                    "0": "USA",
                    "1": "WA",
                    "2": "Seattle"
                },
                {
                    "0": "USA",
                    "1": "WA",
                    "2": "Tacoma"
                },
                {
                    "0": "Australia",
                    "1": "NSW",
                    "2": "Sydney"
                },
                {
                    "0": "Australia",
                    "1": "Victoria",
                    "2": "Melbourne"
                },
                {
                    "0": "Brazil",
                    "1": "NULL",
                    "2": "Sao Paulo"
                },
                {
                    "0": "Canada",
                    "1": "Québec",
                    "2": "Montréal"
                },
                {
                    "0": "Canada",
                    "1": "Québec",
                    "2": "Ste-Hyacinthe"
                },
                {
                    "0": "Denmark",
                    "1": "NULL",
                    "2": "Lyngby"
                },
                {
                    "0": "Finland",
                    "1": "NULL",
                    "2": "Lappeenranta"
                },
                {
                    "0": "France",
                    "1": "NULL",
                    "2": "Annecy"
                },
                {
                    "0": "France",
                    "1": "NULL",
                    "2": "Montceau"
                },
                {
                    "0": "France",
                    "1": "NULL",
                    "2": "Paris"
                },
                {
                    "0": "Germany",
                    "1": "NULL",
                    "2": "Berlin"
                },
                {
                    "0": "Germany",
                    "1": "NULL",
                    "2": "Cuxhaven"
                },
                {
                    "0": "Germany",
                    "1": "NULL",
                    "2": "Frankfurt"
                },
                {
                    "0": "Italy",
                    "1": "NULL",
                    "2": "Ravenna"
                },
                {
                    "0": "Italy",
                    "1": "NULL",
                    "2": "Salerno"
                },
                {
                    "0": "Japan",
                    "1": "NULL",
                    "2": "Osaka"
                },
                {
                    "0": "Japan",
                    "1": "NULL",
                    "2": "Tokyo"
                },
                {
                    "0": "Netherlands",
                    "1": "NULL",
                    "2": "Zaandam"
                },
                {
                    "0": "Norway",
                    "1": "NULL",
                    "2": "Sandvika"
                },
                {
                    "0": "Singapore",
                    "1": "NULL",
                    "2": "Singapore"
                },
                {
                    "0": "Spain",
                    "1": "Asturias",
                    "2": "Oviedo"
                },
                {
                    "0": "Sweden",
                    "1": "NULL",
                    "2": "Göteborg"
                },
                {
                    "0": "Sweden",
                    "1": "NULL",
                    "2": "Stockholm"
                },
                {
                    "0": "UK",
                    "1": "NULL",
                    "2": "London"
                },
                {
                    "0": "UK",
                    "1": "NULL",
                    "2": "Manchester"
                },
                {
                    "0": "USA",
                    "1": "LA",
                    "2": "New Orleans"
                },
                {
                    "0": "USA",
                    "1": "MA",
                    "2": "Boston"
                },
                {
                    "0": "USA",
                    "1": "MI",
                    "2": "Ann Arbor"
                },
                {
                    "0": "USA",
                    "1": "OR",
                    "2": "Bend"
                }
            ]
        },
        "text/html": [
            "<table>",
            "<tr><th>country</th><th>region</th><th>city</th></tr>",
            "<tr><td>UK</td><td>NULL</td><td>London</td></tr>",
            "<tr><td>UK</td><td>NULL</td><td>London</td></tr>",
            "<tr><td>UK</td><td>NULL</td><td>London</td></tr>",
            "<tr><td>UK</td><td>NULL</td><td>London</td></tr>",
            "<tr><td>USA</td><td>WA</td><td>Kirkland</td></tr>",
            "<tr><td>USA</td><td>WA</td><td>Redmond</td></tr>",
            "<tr><td>USA</td><td>WA</td><td>Seattle</td></tr>",
            "<tr><td>USA</td><td>WA</td><td>Seattle</td></tr>",
            "<tr><td>USA</td><td>WA</td><td>Tacoma</td></tr>",
            "<tr><td>Australia</td><td>NSW</td><td>Sydney</td></tr>",
            "<tr><td>Australia</td><td>Victoria</td><td>Melbourne</td></tr>",
            "<tr><td>Brazil</td><td>NULL</td><td>Sao Paulo</td></tr>",
            "<tr><td>Canada</td><td>Québec</td><td>Montréal</td></tr>",
            "<tr><td>Canada</td><td>Québec</td><td>Ste-Hyacinthe</td></tr>",
            "<tr><td>Denmark</td><td>NULL</td><td>Lyngby</td></tr>",
            "<tr><td>Finland</td><td>NULL</td><td>Lappeenranta</td></tr>",
            "<tr><td>France</td><td>NULL</td><td>Annecy</td></tr>",
            "<tr><td>France</td><td>NULL</td><td>Montceau</td></tr>",
            "<tr><td>France</td><td>NULL</td><td>Paris</td></tr>",
            "<tr><td>Germany</td><td>NULL</td><td>Berlin</td></tr>",
            "<tr><td>Germany</td><td>NULL</td><td>Cuxhaven</td></tr>",
            "<tr><td>Germany</td><td>NULL</td><td>Frankfurt</td></tr>",
            "<tr><td>Italy</td><td>NULL</td><td>Ravenna</td></tr>",
            "<tr><td>Italy</td><td>NULL</td><td>Salerno</td></tr>",
            "<tr><td>Japan</td><td>NULL</td><td>Osaka</td></tr>",
            "<tr><td>Japan</td><td>NULL</td><td>Tokyo</td></tr>",
            "<tr><td>Netherlands</td><td>NULL</td><td>Zaandam</td></tr>",
            "<tr><td>Norway</td><td>NULL</td><td>Sandvika</td></tr>",
            "<tr><td>Singapore</td><td>NULL</td><td>Singapore</td></tr>",
            "<tr><td>Spain</td><td>Asturias</td><td>Oviedo</td></tr>",
            "<tr><td>Sweden</td><td>NULL</td><td>Göteborg</td></tr>",
            "<tr><td>Sweden</td><td>NULL</td><td>Stockholm</td></tr>",
            "<tr><td>UK</td><td>NULL</td><td>London</td></tr>",
            "<tr><td>UK</td><td>NULL</td><td>Manchester</td></tr>",
            "<tr><td>USA</td><td>LA</td><td>New Orleans</td></tr>",
            "<tr><td>USA</td><td>MA</td><td>Boston</td></tr>",
            "<tr><td>USA</td><td>MI</td><td>Ann Arbor</td></tr>",
            "<tr><td>USA</td><td>OR</td><td>Bend</td></tr>",
            "</table>"
        ]
    }
}, {
    "output_type": "execute_result",
    "metadata": {},
    "execution_count": 14,
    "data": {
        "application/vnd.dataresource+json": {
            "schema": {
                "fields": [
                    {
                        "name": "Employeecountry"
                    },
                    {
                        "name": "Employeeregion"
                    },
                    {
                        "name": "Employeecity"
                    }
                ]
            },
            "data": [
                {
                    "0": "UK",
                    "1": "NULL",
                    "2": "London"
                },
                {
                    "0": "UK",
                    "1": "NULL",
                    "2": "London"
                },
                {
                    "0": "UK",
                    "1": "NULL",
                    "2": "London"
                },
                {
                    "0": "UK",
                    "1": "NULL",
                    "2": "London"
                },
                {
                    "0": "USA",
                    "1": "WA",
                    "2": "Kirkland"
                },
                {
                    "0": "USA",
                    "1": "WA",
                    "2": "Redmond"
                },
                {
                    "0": "USA",
                    "1": "WA",
                    "2": "Seattle"
                },
                {
                    "0": "USA",
                    "1": "WA",
                    "2": "Seattle"
                },
                {
                    "0": "USA",
                    "1": "WA",
                    "2": "Tacoma"
                },
                {
                    "0": "Australia",
                    "1": "NSW",
                    "2": "Sydney"
                },
                {
                    "0": "Australia",
                    "1": "Victoria",
                    "2": "Melbourne"
                },
                {
                    "0": "Brazil",
                    "1": "NULL",
                    "2": "Sao Paulo"
                },
                {
                    "0": "Canada",
                    "1": "Québec",
                    "2": "Montréal"
                },
                {
                    "0": "Canada",
                    "1": "Québec",
                    "2": "Ste-Hyacinthe"
                },
                {
                    "0": "Denmark",
                    "1": "NULL",
                    "2": "Lyngby"
                },
                {
                    "0": "Finland",
                    "1": "NULL",
                    "2": "Lappeenranta"
                },
                {
                    "0": "France",
                    "1": "NULL",
                    "2": "Annecy"
                },
                {
                    "0": "France",
                    "1": "NULL",
                    "2": "Montceau"
                },
                {
                    "0": "France",
                    "1": "NULL",
                    "2": "Paris"
                },
                {
                    "0": "Germany",
                    "1": "NULL",
                    "2": "Berlin"
                },
                {
                    "0": "Germany",
                    "1": "NULL",
                    "2": "Cuxhaven"
                },
                {
                    "0": "Germany",
                    "1": "NULL",
                    "2": "Frankfurt"
                },
                {
                    "0": "Italy",
                    "1": "NULL",
                    "2": "Ravenna"
                },
                {
                    "0": "Italy",
                    "1": "NULL",
                    "2": "Salerno"
                },
                {
                    "0": "Japan",
                    "1": "NULL",
                    "2": "Osaka"
                },
                {
                    "0": "Japan",
                    "1": "NULL",
                    "2": "Tokyo"
                },
                {
                    "0": "Netherlands",
                    "1": "NULL",
                    "2": "Zaandam"
                },
                {
                    "0": "Norway",
                    "1": "NULL",
                    "2": "Sandvika"
                },
                {
                    "0": "Singapore",
                    "1": "NULL",
                    "2": "Singapore"
                },
                {
                    "0": "Spain",
                    "1": "Asturias",
                    "2": "Oviedo"
                },
                {
                    "0": "Sweden",
                    "1": "NULL",
                    "2": "Göteborg"
                },
                {
                    "0": "Sweden",
                    "1": "NULL",
                    "2": "Stockholm"
                },
                {
                    "0": "UK",
                    "1": "NULL",
                    "2": "London"
                },
                {
                    "0": "UK",
                    "1": "NULL",
                    "2": "Manchester"
                },
                {
                    "0": "USA",
                    "1": "LA",
                    "2": "New Orleans"
                },
                {
                    "0": "USA",
                    "1": "MA",
                    "2": "Boston"
                },
                {
                    "0": "USA",
                    "1": "MI",
                    "2": "Ann Arbor"
                },
                {
                    "0": "USA",
                    "1": "OR",
                    "2": "Bend"
                }
            ]
        },
        "text/html": [
            "<table>",
            "<tr><th>Employeecountry</th><th>Employeeregion</th><th>Employeecity</th></tr>",
            "<tr><td>UK</td><td>NULL</td><td>London</td></tr>",
            "<tr><td>UK</td><td>NULL</td><td>London</td></tr>",
            "<tr><td>UK</td><td>NULL</td><td>London</td></tr>",
            "<tr><td>UK</td><td>NULL</td><td>London</td></tr>",
            "<tr><td>USA</td><td>WA</td><td>Kirkland</td></tr>",
            "<tr><td>USA</td><td>WA</td><td>Redmond</td></tr>",
            "<tr><td>USA</td><td>WA</td><td>Seattle</td></tr>",
            "<tr><td>USA</td><td>WA</td><td>Seattle</td></tr>",
            "<tr><td>USA</td><td>WA</td><td>Tacoma</td></tr>",
            "<tr><td>Australia</td><td>NSW</td><td>Sydney</td></tr>",
            "<tr><td>Australia</td><td>Victoria</td><td>Melbourne</td></tr>",
            "<tr><td>Brazil</td><td>NULL</td><td>Sao Paulo</td></tr>",
            "<tr><td>Canada</td><td>Québec</td><td>Montréal</td></tr>",
            "<tr><td>Canada</td><td>Québec</td><td>Ste-Hyacinthe</td></tr>",
            "<tr><td>Denmark</td><td>NULL</td><td>Lyngby</td></tr>",
            "<tr><td>Finland</td><td>NULL</td><td>Lappeenranta</td></tr>",
            "<tr><td>France</td><td>NULL</td><td>Annecy</td></tr>",
            "<tr><td>France</td><td>NULL</td><td>Montceau</td></tr>",
            "<tr><td>France</td><td>NULL</td><td>Paris</td></tr>",
            "<tr><td>Germany</td><td>NULL</td><td>Berlin</td></tr>",
            "<tr><td>Germany</td><td>NULL</td><td>Cuxhaven</td></tr>",
            "<tr><td>Germany</td><td>NULL</td><td>Frankfurt</td></tr>",
            "<tr><td>Italy</td><td>NULL</td><td>Ravenna</td></tr>",
            "<tr><td>Italy</td><td>NULL</td><td>Salerno</td></tr>",
            "<tr><td>Japan</td><td>NULL</td><td>Osaka</td></tr>",
            "<tr><td>Japan</td><td>NULL</td><td>Tokyo</td></tr>",
            "<tr><td>Netherlands</td><td>NULL</td><td>Zaandam</td></tr>",
            "<tr><td>Norway</td><td>NULL</td><td>Sandvika</td></tr>",
            "<tr><td>Singapore</td><td>NULL</td><td>Singapore</td></tr>",
            "<tr><td>Spain</td><td>Asturias</td><td>Oviedo</td></tr>",
            "<tr><td>Sweden</td><td>NULL</td><td>Göteborg</td></tr>",
            "<tr><td>Sweden</td><td>NULL</td><td>Stockholm</td></tr>",
            "<tr><td>UK</td><td>NULL</td><td>London</td></tr>",
            "<tr><td>UK</td><td>NULL</td><td>Manchester</td></tr>",
            "<tr><td>USA</td><td>LA</td><td>New Orleans</td></tr>",
            "<tr><td>USA</td><td>MA</td><td>Boston</td></tr>",
            "<tr><td>USA</td><td>MI</td><td>Ann Arbor</td></tr>",
            "<tr><td>USA</td><td>OR</td><td>Bend</td></tr>",
            "</table>"
        ]
    }
}
],
            "execution_count": 14
        }
    ]
}