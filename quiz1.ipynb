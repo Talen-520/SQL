{
    "metadata": {
        "kernelspec": {
            "name": "SQL",
            "display_name": "SQL",
            "language": "sql"
        },
        "language_info": {
            "name": "sql",
            "version": ""
        }
    },
    "nbformat_minor": 2,
    "nbformat": 4,
    "cells": [
        {
            "cell_type": "code",
            "source": [
                "use Northwinds2022TSQLV7;\r\n",
                "go\r\n",
                "SELECT  top (5) \r\n",
                "\t\t'Raw Data' AS QueryType, \r\n",
                "        CustomerCompanyName,\r\n",
                "         CustomerCountry\r\n",
                "     , OrderId,\r\n",
                "        YEAR(OrderDate) AS purchaseYear,\r\n",
                "        DATEDIFF(day,OrderDate,RequiredDate) AS NumberOfDaysBetweenOrderDateAndRequiredDate,\r\n",
                "        EOMONTH(ShipToDate)   AS ShipToDateMonthsLastDay,\r\n",
                "        UnitPrice*Quantity AS LineCost\r\n",
                "FROM            \r\n",
                "\t\tQuizCSCI331.CustomerOrder"
            ],
            "metadata": {
                "azdata_cell_guid": "b24b049a-abb9-404f-ae8c-da007e45fe07",
                "language": "sql",
                "tags": []
            },
            "outputs": [
{
    "output_type": "display_data",
    "data": {
        "text/html": "Commands completed successfully."
    },
    "metadata": {}
}, {
    "output_type": "display_data",
    "data": {
        "text/html": "(5 rows affected)"
    },
    "metadata": {}
}, {
    "output_type": "display_data",
    "data": {
        "text/html": "Total execution time: 00:00:00.046"
    },
    "metadata": {}
}, {
    "output_type": "execute_result",
    "metadata": {},
    "execution_count": 1,
    "data": {
        "application/vnd.dataresource+json": {
            "schema": {
                "fields": [
                    {
                        "name": "QueryType"
                    },
                    {
                        "name": "CustomerCompanyName"
                    },
                    {
                        "name": "CustomerCountry"
                    },
                    {
                        "name": "OrderId"
                    },
                    {
                        "name": "purchaseYear"
                    },
                    {
                        "name": "NumberOfDaysBetweenOrderDateAndRequiredDate"
                    },
                    {
                        "name": "ShipToDateMonthsLastDay"
                    },
                    {
                        "name": "LineCost"
                    }
                ]
            },
            "data": [
                {
                    "0": "Raw Data",
                    "1": "Customer ENQZT",
                    "2": "France",
                    "3": "10248",
                    "4": "2014",
                    "5": "28",
                    "6": "2014-07-31",
                    "7": "168.00"
                },
                {
                    "0": "Raw Data",
                    "1": "Customer ENQZT",
                    "2": "France",
                    "3": "10248",
                    "4": "2014",
                    "5": "28",
                    "6": "2014-07-31",
                    "7": "98.00"
                },
                {
                    "0": "Raw Data",
                    "1": "Customer ENQZT",
                    "2": "France",
                    "3": "10248",
                    "4": "2014",
                    "5": "28",
                    "6": "2014-07-31",
                    "7": "174.00"
                },
                {
                    "0": "Raw Data",
                    "1": "Customer FAPSM",
                    "2": "Germany",
                    "3": "10249",
                    "4": "2014",
                    "5": "42",
                    "6": "2014-07-31",
                    "7": "167.40"
                },
                {
                    "0": "Raw Data",
                    "1": "Customer FAPSM",
                    "2": "Germany",
                    "3": "10249",
                    "4": "2014",
                    "5": "42",
                    "6": "2014-07-31",
                    "7": "1696.00"
                }
            ]
        },
        "text/html": [
            "<table>",
            "<tr><th>QueryType</th><th>CustomerCompanyName</th><th>CustomerCountry</th><th>OrderId</th><th>purchaseYear</th><th>NumberOfDaysBetweenOrderDateAndRequiredDate</th><th>ShipToDateMonthsLastDay</th><th>LineCost</th></tr>",
            "<tr><td>Raw Data</td><td>Customer ENQZT</td><td>France</td><td>10248</td><td>2014</td><td>28</td><td>2014-07-31</td><td>168.00</td></tr>",
            "<tr><td>Raw Data</td><td>Customer ENQZT</td><td>France</td><td>10248</td><td>2014</td><td>28</td><td>2014-07-31</td><td>98.00</td></tr>",
            "<tr><td>Raw Data</td><td>Customer ENQZT</td><td>France</td><td>10248</td><td>2014</td><td>28</td><td>2014-07-31</td><td>174.00</td></tr>",
            "<tr><td>Raw Data</td><td>Customer FAPSM</td><td>Germany</td><td>10249</td><td>2014</td><td>42</td><td>2014-07-31</td><td>167.40</td></tr>",
            "<tr><td>Raw Data</td><td>Customer FAPSM</td><td>Germany</td><td>10249</td><td>2014</td><td>42</td><td>2014-07-31</td><td>1696.00</td></tr>",
            "</table>"
        ]
    }
}
],
            "execution_count": 1
        }
    ]
}